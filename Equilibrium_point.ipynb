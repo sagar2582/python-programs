{
  "nbformat": 4,
  "nbformat_minor": 0,
  "metadata": {
    "colab": {
      "provenance": [],
      "authorship_tag": "ABX9TyMy7PdGcFoED6sO43tSR9A2",
      "include_colab_link": true
    },
    "kernelspec": {
      "name": "python3",
      "display_name": "Python 3"
    },
    "language_info": {
      "name": "python"
    }
  },
  "cells": [
    {
      "cell_type": "markdown",
      "metadata": {
        "id": "view-in-github",
        "colab_type": "text"
      },
      "source": [
        "<a href=\"https://colab.research.google.com/github/sagar2582/python-programs/blob/main/Equilibrium_point.ipynb\" target=\"_parent\"><img src=\"https://colab.research.google.com/assets/colab-badge.svg\" alt=\"Open In Colab\"/></a>"
      ]
    },
    {
      "cell_type": "code",
      "execution_count": null,
      "metadata": {
        "id": "0lO9zvCCYq5c"
      },
      "outputs": [],
      "source": [
        "# User function Template for python3\n",
        "\n",
        "class Solution:\n",
        "    # Complete this function\n",
        "    \n",
        "    #Function to find equilibrium point in the array.\n",
        "    def equilibriumPoint(self,A, N):\n",
        "        total_sum = sum(A)\n",
        "        curr_sum = 0\n",
        "        \n",
        "        for i, val in enumerate(A):\n",
        "            if val == (total_sum - curr_sum):\n",
        "                return i+1\n",
        "            else:\n",
        "                curr_sum+=val\n",
        "                total_sum-=val\n",
        "        \n",
        "        return -1\n",
        "            \n",
        "        "
      ]
    }
  ]
}