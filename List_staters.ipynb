{
  "nbformat": 4,
  "nbformat_minor": 0,
  "metadata": {
    "colab": {
      "provenance": [],
      "authorship_tag": "ABX9TyOKtD7c4sjYSnPov136kb5J",
      "include_colab_link": true
    },
    "kernelspec": {
      "name": "python3",
      "display_name": "Python 3"
    },
    "language_info": {
      "name": "python"
    }
  },
  "cells": [
    {
      "cell_type": "markdown",
      "metadata": {
        "id": "view-in-github",
        "colab_type": "text"
      },
      "source": [
        "<a href=\"https://colab.research.google.com/github/sagar2582/python-programs/blob/main/List_staters.ipynb\" target=\"_parent\"><img src=\"https://colab.research.google.com/assets/colab-badge.svg\" alt=\"Open In Colab\"/></a>"
      ]
    },
    {
      "cell_type": "markdown",
      "source": [
        "### Python program to interchange first and last elements in a list"
      ],
      "metadata": {
        "id": "Gh11JDRnVOIe"
      }
    },
    {
      "cell_type": "code",
      "source": [
        "ls = [1,4,2,5,3,2,5,7]\n",
        "ls[0], ls[-1] = ls[-1], ls[0]\n",
        "ls"
      ],
      "metadata": {
        "colab": {
          "base_uri": "https://localhost:8080/"
        },
        "id": "RRbqvmDuVW_f",
        "outputId": "f52fc06c-21d6-43ea-8294-34422eddad72"
      },
      "execution_count": 1,
      "outputs": [
        {
          "output_type": "execute_result",
          "data": {
            "text/plain": [
              "[7, 4, 2, 5, 3, 2, 5, 1]"
            ]
          },
          "metadata": {},
          "execution_count": 1
        }
      ]
    },
    {
      "cell_type": "markdown",
      "source": [
        "### Python program to swap two elements in a list"
      ],
      "metadata": {
        "id": "O7gEHcHtVk_Y"
      }
    },
    {
      "cell_type": "code",
      "source": [
        "ls = [1,4,2,5,3,2,5,7]\n",
        "pos1 = 1\n",
        "pos2 = 5\n",
        "\n",
        "ls[pos1-1], ls[pos2-1] = ls[pos2-1], ls[pos1-1]\n",
        "ls"
      ],
      "metadata": {
        "colab": {
          "base_uri": "https://localhost:8080/"
        },
        "id": "WgZwkVLTV0KV",
        "outputId": "71eae1f7-d6c9-48f1-9620-67456ede84f0"
      },
      "execution_count": 3,
      "outputs": [
        {
          "output_type": "execute_result",
          "data": {
            "text/plain": [
              "[3, 4, 2, 5, 1, 2, 5, 7]"
            ]
          },
          "metadata": {},
          "execution_count": 3
        }
      ]
    },
    {
      "cell_type": "markdown",
      "source": [
        "### Reversing a List in Python\n"
      ],
      "metadata": {
        "id": "uygZ6miTWZsA"
      }
    },
    {
      "cell_type": "code",
      "source": [
        "ls.reverse()"
      ],
      "metadata": {
        "id": "5jfMTrpIXpdz"
      },
      "execution_count": 12,
      "outputs": []
    },
    {
      "cell_type": "code",
      "source": [
        "ls"
      ],
      "metadata": {
        "colab": {
          "base_uri": "https://localhost:8080/"
        },
        "id": "eI41vyM3YcOg",
        "outputId": "80a9f5c7-d3c1-493e-c57b-76b849f40a4d"
      },
      "execution_count": 13,
      "outputs": [
        {
          "output_type": "execute_result",
          "data": {
            "text/plain": [
              "[7, 5, 2, 1, 5, 2, 4, 3]"
            ]
          },
          "metadata": {},
          "execution_count": 13
        }
      ]
    },
    {
      "cell_type": "code",
      "source": [
        "def reverse_ls(ls):\n",
        "  left = 0\n",
        "  right = len(ls)-1\n",
        "  while left<right:\n",
        "    temp = ls[left]\n",
        "    ls[left] = ls[right]\n",
        "    ls[right] = temp\n",
        "    left+=1\n",
        "    right-=1\n",
        "  return ls\n",
        "\n",
        "ls1 = [1,2,3,4,5,6,7,8,9,10]\n",
        "reverse_ls(ls1)"
      ],
      "metadata": {
        "colab": {
          "base_uri": "https://localhost:8080/"
        },
        "id": "rvvELjOuYpwu",
        "outputId": "dd1bd106-7a44-4ee5-e60c-f8e0e0aa6c4f"
      },
      "execution_count": 15,
      "outputs": [
        {
          "output_type": "execute_result",
          "data": {
            "text/plain": [
              "[10, 9, 8, 7, 6, 5, 4, 3, 2, 1]"
            ]
          },
          "metadata": {},
          "execution_count": 15
        }
      ]
    },
    {
      "cell_type": "markdown",
      "source": [
        "### Python | Count occurrences of an element in a list"
      ],
      "metadata": {
        "id": "_Fqt0dNYZfuw"
      }
    },
    {
      "cell_type": "code",
      "source": [
        "# 1.\n",
        "x = 2\n",
        "counter = 0\n",
        "for elem in ls:\n",
        "  if elem == x:\n",
        "    counter+=1\n",
        "print(counter)"
      ],
      "metadata": {
        "colab": {
          "base_uri": "https://localhost:8080/"
        },
        "id": "CsL1MdpWbArp",
        "outputId": "66ae9786-7fd9-4354-ab4d-c702e15ae73d"
      },
      "execution_count": 17,
      "outputs": [
        {
          "output_type": "stream",
          "name": "stdout",
          "text": [
            "2\n"
          ]
        }
      ]
    },
    {
      "cell_type": "code",
      "source": [
        "# 2.\n",
        "ls.count(x)"
      ],
      "metadata": {
        "colab": {
          "base_uri": "https://localhost:8080/"
        },
        "id": "dNS0nrMzbQyo",
        "outputId": "f603f8ad-c995-416c-fa0c-dabc1d22943c"
      },
      "execution_count": 18,
      "outputs": [
        {
          "output_type": "execute_result",
          "data": {
            "text/plain": [
              "2"
            ]
          },
          "metadata": {},
          "execution_count": 18
        }
      ]
    },
    {
      "cell_type": "code",
      "source": [],
      "metadata": {
        "id": "4jkqb11zbc0p"
      },
      "execution_count": null,
      "outputs": []
    }
  ]
}