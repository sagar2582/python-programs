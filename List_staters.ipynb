{
  "nbformat": 4,
  "nbformat_minor": 0,
  "metadata": {
    "colab": {
      "provenance": [],
      "authorship_tag": "ABX9TyNWZqbeE31i2gIJgYIRIE7x",
      "include_colab_link": true
    },
    "kernelspec": {
      "name": "python3",
      "display_name": "Python 3"
    },
    "language_info": {
      "name": "python"
    }
  },
  "cells": [
    {
      "cell_type": "markdown",
      "metadata": {
        "id": "view-in-github",
        "colab_type": "text"
      },
      "source": [
        "<a href=\"https://colab.research.google.com/github/sagar2582/python-programs/blob/main/List_staters.ipynb\" target=\"_parent\"><img src=\"https://colab.research.google.com/assets/colab-badge.svg\" alt=\"Open In Colab\"/></a>"
      ]
    },
    {
      "cell_type": "markdown",
      "source": [
        "### Python program to interchange first and last elements in a list"
      ],
      "metadata": {
        "id": "Gh11JDRnVOIe"
      }
    },
    {
      "cell_type": "code",
      "source": [
        "ls = [1,4,2,5,3,2,5,7]\n",
        "ls[0], ls[-1] = ls[-1], ls[0]\n",
        "ls"
      ],
      "metadata": {
        "colab": {
          "base_uri": "https://localhost:8080/"
        },
        "id": "RRbqvmDuVW_f",
        "outputId": "f52fc06c-21d6-43ea-8294-34422eddad72"
      },
      "execution_count": 1,
      "outputs": [
        {
          "output_type": "execute_result",
          "data": {
            "text/plain": [
              "[7, 4, 2, 5, 3, 2, 5, 1]"
            ]
          },
          "metadata": {},
          "execution_count": 1
        }
      ]
    },
    {
      "cell_type": "markdown",
      "source": [
        "### Python program to swap two elements in a list"
      ],
      "metadata": {
        "id": "O7gEHcHtVk_Y"
      }
    },
    {
      "cell_type": "code",
      "source": [
        "ls = [1,4,2,5,3,2,5,7]\n",
        "pos1 = 1\n",
        "pos2 = 5\n",
        "\n",
        "ls[pos1-1], ls[pos2-1] = ls[pos2-1], ls[pos1-1]\n",
        "ls"
      ],
      "metadata": {
        "colab": {
          "base_uri": "https://localhost:8080/"
        },
        "id": "WgZwkVLTV0KV",
        "outputId": "71eae1f7-d6c9-48f1-9620-67456ede84f0"
      },
      "execution_count": 3,
      "outputs": [
        {
          "output_type": "execute_result",
          "data": {
            "text/plain": [
              "[3, 4, 2, 5, 1, 2, 5, 7]"
            ]
          },
          "metadata": {},
          "execution_count": 3
        }
      ]
    },
    {
      "cell_type": "markdown",
      "source": [
        "### Reversing a List in Python\n"
      ],
      "metadata": {
        "id": "uygZ6miTWZsA"
      }
    },
    {
      "cell_type": "code",
      "source": [
        "ls.reverse()"
      ],
      "metadata": {
        "id": "5jfMTrpIXpdz"
      },
      "execution_count": 12,
      "outputs": []
    },
    {
      "cell_type": "code",
      "source": [
        "ls"
      ],
      "metadata": {
        "colab": {
          "base_uri": "https://localhost:8080/"
        },
        "id": "eI41vyM3YcOg",
        "outputId": "80a9f5c7-d3c1-493e-c57b-76b849f40a4d"
      },
      "execution_count": 13,
      "outputs": [
        {
          "output_type": "execute_result",
          "data": {
            "text/plain": [
              "[7, 5, 2, 1, 5, 2, 4, 3]"
            ]
          },
          "metadata": {},
          "execution_count": 13
        }
      ]
    },
    {
      "cell_type": "code",
      "source": [
        "def reverse_ls(ls):\n",
        "  left = 0\n",
        "  right = len(ls)-1\n",
        "  while left<right:\n",
        "    temp = ls[left]\n",
        "    ls[left] = ls[right]\n",
        "    ls[right] = temp\n",
        "    left+=1\n",
        "    right-=1\n",
        "  return ls\n",
        "\n",
        "ls1 = [1,2,3,4,5,6,7,8,9,10]\n",
        "reverse_ls(ls1)"
      ],
      "metadata": {
        "colab": {
          "base_uri": "https://localhost:8080/"
        },
        "id": "rvvELjOuYpwu",
        "outputId": "dd1bd106-7a44-4ee5-e60c-f8e0e0aa6c4f"
      },
      "execution_count": 15,
      "outputs": [
        {
          "output_type": "execute_result",
          "data": {
            "text/plain": [
              "[10, 9, 8, 7, 6, 5, 4, 3, 2, 1]"
            ]
          },
          "metadata": {},
          "execution_count": 15
        }
      ]
    },
    {
      "cell_type": "markdown",
      "source": [
        "### Python | Count occurrences of an element in a list"
      ],
      "metadata": {
        "id": "_Fqt0dNYZfuw"
      }
    },
    {
      "cell_type": "code",
      "source": [
        "# 1.\n",
        "x = 2\n",
        "counter = 0\n",
        "for elem in ls:\n",
        "  if elem == x:\n",
        "    counter+=1\n",
        "print(counter)"
      ],
      "metadata": {
        "colab": {
          "base_uri": "https://localhost:8080/"
        },
        "id": "CsL1MdpWbArp",
        "outputId": "66ae9786-7fd9-4354-ab4d-c702e15ae73d"
      },
      "execution_count": 17,
      "outputs": [
        {
          "output_type": "stream",
          "name": "stdout",
          "text": [
            "2\n"
          ]
        }
      ]
    },
    {
      "cell_type": "code",
      "source": [
        "# 2.\n",
        "ls.count(x)"
      ],
      "metadata": {
        "colab": {
          "base_uri": "https://localhost:8080/"
        },
        "id": "dNS0nrMzbQyo",
        "outputId": "f603f8ad-c995-416c-fa0c-dabc1d22943c"
      },
      "execution_count": 18,
      "outputs": [
        {
          "output_type": "execute_result",
          "data": {
            "text/plain": [
              "2"
            ]
          },
          "metadata": {},
          "execution_count": 18
        }
      ]
    },
    {
      "cell_type": "markdown",
      "source": [
        "### Python | Sum of number digits in List"
      ],
      "metadata": {
        "id": "4jkqb11zbc0p"
      }
    },
    {
      "cell_type": "code",
      "source": [
        "ls2 = [12, 67, 98, 34]\n",
        "\n",
        "res = []\n",
        "\n",
        "\n",
        "for elem in ls2:\n",
        "  sum = 0\n",
        "  for digit in str(elem):\n",
        "    sum+=int(digit)\n",
        "  res.append(sum)\n",
        "print(res)"
      ],
      "metadata": {
        "colab": {
          "base_uri": "https://localhost:8080/"
        },
        "id": "O81XC3MRur_4",
        "outputId": "e9472774-3e37-45e9-fb9c-4d5c45859ddb"
      },
      "execution_count": 3,
      "outputs": [
        {
          "output_type": "stream",
          "name": "stdout",
          "text": [
            "[3, 13, 17, 7]\n"
          ]
        }
      ]
    },
    {
      "cell_type": "markdown",
      "source": [
        "### Python program to find second largest number in a list"
      ],
      "metadata": {
        "id": "wa_2rE2hvEqN"
      }
    },
    {
      "cell_type": "code",
      "source": [
        "list1 = [10, 20, 20, 4, 45, 45, 45, 99, 99]\n",
        "\n",
        "list2 = list(set(list1))\n",
        "list2.sort()\n",
        "list2[-2]"
      ],
      "metadata": {
        "colab": {
          "base_uri": "https://localhost:8080/"
        },
        "id": "jIDTNUmfyyeP",
        "outputId": "7c57b2c2-9278-40ed-dcdf-e0c1e0e0d42f"
      },
      "execution_count": 4,
      "outputs": [
        {
          "output_type": "execute_result",
          "data": {
            "text/plain": [
              "45"
            ]
          },
          "metadata": {},
          "execution_count": 4
        }
      ]
    },
    {
      "cell_type": "markdown",
      "source": [
        "### Remove empty tuples in a list"
      ],
      "metadata": {
        "id": "cVg5BTS54DU0"
      }
    },
    {
      "cell_type": "code",
      "source": [
        "ls_tuples = [(\",\",'8'), (), ('0', '00', '000'), ('birbal', \"\", '45'), (), (),  (\",\"),()]\n",
        "\n",
        "f_ls = [t for t in ls_tuples if t]\n",
        "print(f_ls)"
      ],
      "metadata": {
        "colab": {
          "base_uri": "https://localhost:8080/"
        },
        "id": "u2FZ75H5jrg6",
        "outputId": "aaa22d5e-e667-464a-af19-245cd623d7d4"
      },
      "execution_count": 2,
      "outputs": [
        {
          "output_type": "stream",
          "name": "stdout",
          "text": [
            "[(',', '8'), ('0', '00', '000'), ('birbal', '', '45'), ',']\n"
          ]
        }
      ]
    },
    {
      "cell_type": "markdown",
      "source": [
        "### Python | Program to print duplicates from a list of integers\n"
      ],
      "metadata": {
        "id": "v0J-CCuhj96b"
      }
    },
    {
      "cell_type": "code",
      "source": [
        "ls_dp = [10, 20, 30, 20, 20, 30, 40, 50, -20, 60, 60, -20, -20]\n",
        "\n",
        "uni_ls = []\n",
        "dup_ls = []\n",
        "for i in ls_dp:\n",
        "  if i not in uni_ls:\n",
        "    uni_ls.append(i)\n",
        "  elif i not in dup_ls:\n",
        "    dup_ls.append(i)\n",
        "\n",
        "print(uni_ls)\n",
        "print(dup_ls)"
      ],
      "metadata": {
        "colab": {
          "base_uri": "https://localhost:8080/"
        },
        "id": "RBVjpV1lk57G",
        "outputId": "879a2d31-9376-4248-d61b-5ea71109e18e"
      },
      "execution_count": 3,
      "outputs": [
        {
          "output_type": "stream",
          "name": "stdout",
          "text": [
            "[10, 20, 30, 40, 50, -20, 60]\n",
            "[20, 30, 60, -20]\n"
          ]
        }
      ]
    },
    {
      "cell_type": "markdown",
      "source": [
        "### Remove empty lists from lists"
      ],
      "metadata": {
        "id": "lsZhk5uIl78Q"
      }
    },
    {
      "cell_type": "code",
      "source": [
        "test_list = [5, 6, [], 3, [], [], 9]\n",
        "\n",
        "non_emp = [l for l in test_list if l]\n",
        "print(non_emp)"
      ],
      "metadata": {
        "colab": {
          "base_uri": "https://localhost:8080/"
        },
        "id": "ZWmvb7FtmIb1",
        "outputId": "8b5b8b28-8532-4df0-b0c7-47a0cfff2bd2"
      },
      "execution_count": 4,
      "outputs": [
        {
          "output_type": "stream",
          "name": "stdout",
          "text": [
            "[5, 6, 3, 9]\n"
          ]
        }
      ]
    },
    {
      "cell_type": "code",
      "source": [
        "test_list = [\"Gfg\", 3, \"is\", 8, \"Best\", 10, \"for\", 18, \"Geeks\", 33]\n",
        "key_lsit = [\"name\", \"number\"]\n",
        "\n",
        "n = len(test_list)\n"
      ],
      "metadata": {
        "id": "LEXB3UTVnUc0"
      },
      "execution_count": null,
      "outputs": []
    }
  ]
}