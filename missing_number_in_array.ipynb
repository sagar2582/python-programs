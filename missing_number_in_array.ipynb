{
  "nbformat": 4,
  "nbformat_minor": 0,
  "metadata": {
    "colab": {
      "provenance": [],
      "authorship_tag": "ABX9TyNax+nk8n/II7AHv5Qrf2RY",
      "include_colab_link": true
    },
    "kernelspec": {
      "name": "python3",
      "display_name": "Python 3"
    },
    "language_info": {
      "name": "python"
    }
  },
  "cells": [
    {
      "cell_type": "markdown",
      "metadata": {
        "id": "view-in-github",
        "colab_type": "text"
      },
      "source": [
        "<a href=\"https://colab.research.google.com/github/sagar2582/python-programs/blob/main/missing_number_in_array.ipynb\" target=\"_parent\"><img src=\"https://colab.research.google.com/assets/colab-badge.svg\" alt=\"Open In Colab\"/></a>"
      ]
    },
    {
      "cell_type": "markdown",
      "source": [
        "Given an array of size N-1 such that it only contains distinct integers in the range of 1 to N. Find the missing element.\n",
        "\n",
        "Example 1:\n",
        "\n",
        "Input:\n",
        "N = 5\n",
        "A[] = {1,2,3,5}\n",
        "Output: 4\n",
        "Example 2:\n",
        "\n",
        "Input:\n",
        "N = 10\n",
        "A[] = {6,1,2,8,3,4,7,10,5}\n",
        "Output: 9\n",
        "\n",
        "Your Task :\n",
        "You don't need to read input or print anything. Complete the function MissingNumber() that takes array and N as input  parameters and returns the value of the missing number.\n",
        "\n"
      ],
      "metadata": {
        "id": "oJ3O2ATtAnhx"
      }
    },
    {
      "cell_type": "code",
      "execution_count": null,
      "metadata": {
        "id": "a45ExjCm-XqM"
      },
      "outputs": [],
      "source": [
        "\n",
        "class Solution:\n",
        "    def MissingNumber(self,array,n):\n",
        "        # code here\n",
        "        ls = []\n",
        "        for i in range(1,n+1):\n",
        "            ls.append(i)\n",
        "        return  (sum(ls) - sum(array))\n"
      ]
    }
  ]
}