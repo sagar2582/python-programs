{
  "nbformat": 4,
  "nbformat_minor": 0,
  "metadata": {
    "colab": {
      "provenance": [],
      "authorship_tag": "ABX9TyNoHWj4nPuf8yH0eBYBpUa1",
      "include_colab_link": true
    },
    "kernelspec": {
      "name": "python3",
      "display_name": "Python 3"
    },
    "language_info": {
      "name": "python"
    }
  },
  "cells": [
    {
      "cell_type": "markdown",
      "metadata": {
        "id": "view-in-github",
        "colab_type": "text"
      },
      "source": [
        "<a href=\"https://colab.research.google.com/github/sagar2582/python-programs/blob/main/Smaller_Sum.ipynb\" target=\"_parent\"><img src=\"https://colab.research.google.com/assets/colab-badge.svg\" alt=\"Open In Colab\"/></a>"
      ]
    },
    {
      "cell_type": "markdown",
      "source": [
        "## Brute Force Approach"
      ],
      "metadata": {
        "id": "P1Py02-RXxbQ"
      }
    },
    {
      "cell_type": "code",
      "source": [
        "def smallerSum(self, n : int, arr : List[int]) -> List[int]:\n",
        "\n",
        "  ans = []\n",
        "  for val1 in arr():\n",
        "    sum = 0\n",
        "    for val2 in arr():\n",
        "      if val2<val1:\n",
        "        sum = sum+val2\n",
        "      ans.append(sum)\n",
        "  return ans"
      ],
      "metadata": {
        "id": "PXoOmYXzZBXH"
      },
      "execution_count": null,
      "outputs": []
    },
    {
      "cell_type": "markdown",
      "source": [
        "## Binary - Search based approach "
      ],
      "metadata": {
        "id": "MGxPf6NbaQIX"
      }
    },
    {
      "cell_type": "code",
      "source": [],
      "metadata": {
        "id": "klyxI9owaZJg"
      },
      "execution_count": null,
      "outputs": []
    }
  ]
}