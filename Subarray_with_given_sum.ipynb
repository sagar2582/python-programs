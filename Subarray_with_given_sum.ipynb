{
  "nbformat": 4,
  "nbformat_minor": 0,
  "metadata": {
    "colab": {
      "provenance": [],
      "authorship_tag": "ABX9TyNTZI5dVKOQa5UAl5p2DbXb",
      "include_colab_link": true
    },
    "kernelspec": {
      "name": "python3",
      "display_name": "Python 3"
    },
    "language_info": {
      "name": "python"
    }
  },
  "cells": [
    {
      "cell_type": "markdown",
      "metadata": {
        "id": "view-in-github",
        "colab_type": "text"
      },
      "source": [
        "<a href=\"https://colab.research.google.com/github/sagar2582/python-programs/blob/main/Subarray_with_given_sum.ipynb\" target=\"_parent\"><img src=\"https://colab.research.google.com/assets/colab-badge.svg\" alt=\"Open In Colab\"/></a>"
      ]
    },
    {
      "cell_type": "markdown",
      "source": [
        "Given an unsorted array A of size N that contains only positive integers, find a continuous sub-array that adds to a given number S and return the left and right index(1-based indexing) of that subarray.\n",
        "\n",
        "In case of multiple subarrays, return the subarray indexes which come first on moving from left to right.\n",
        "\n",
        "Note:- You have to return an ArrayList consisting of two elements left and right. In case no such subarray exists return an array consisting of element -1.\n",
        "\n",
        "Example 1:\n",
        "\n",
        "Input:\n",
        "N = 5, S = 12\n",
        "A[] = {1,2,3,7,5}\n",
        "Output: 2 4\n",
        "Explanation: The sum of elements \n",
        "from 2nd position to 4th position \n",
        "is 12."
      ],
      "metadata": {
        "id": "fpV42K629HTT"
      }
    },
    {
      "cell_type": "code",
      "execution_count": null,
      "metadata": {
        "id": "pC-73_fHnUxR"
      },
      "outputs": [],
      "source": [
        "class Solution:\n",
        "    def subArraySum(self,arr, n, s):\n",
        "        i,j=0,0\n",
        "        sum=0\n",
        "        while j<n:\n",
        "            sum+=arr[j]\n",
        "            while sum>s and i<j:\n",
        "                sum-=arr[i]\n",
        "                i+=1\n",
        "                if sum==s:\n",
        "                    return[i+1, j+1]\n",
        "            if sum == s:\n",
        "                return[i+1, j+1]\n",
        "            j+=1\n",
        "        return [-1]"
      ]
    }
  ]
}