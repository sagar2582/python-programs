{
  "nbformat": 4,
  "nbformat_minor": 0,
  "metadata": {
    "colab": {
      "provenance": [],
      "authorship_tag": "ABX9TyOP89hBCsChY9RLHpzTED1H",
      "include_colab_link": true
    },
    "kernelspec": {
      "name": "python3",
      "display_name": "Python 3"
    },
    "language_info": {
      "name": "python"
    }
  },
  "cells": [
    {
      "cell_type": "markdown",
      "metadata": {
        "id": "view-in-github",
        "colab_type": "text"
      },
      "source": [
        "<a href=\"https://colab.research.google.com/github/sagar2582/python-programs/blob/main/Leaders_in_an_array.ipynb\" target=\"_parent\"><img src=\"https://colab.research.google.com/assets/colab-badge.svg\" alt=\"Open In Colab\"/></a>"
      ]
    },
    {
      "cell_type": "code",
      "execution_count": null,
      "metadata": {
        "id": "urKVV3zkXKOH"
      },
      "outputs": [],
      "source": [
        "class Solution:\n",
        "    #Back-end complete function Template for Python 3\n",
        "    \n",
        "    #Function to find the leaders in the array.\n",
        "    def leaders(self, A, N):\n",
        "        #Code here\n",
        "        max_elem = A[-1]\n",
        "        leader = []\n",
        "        #leader.append(max_elem)\n",
        "        for i in reversed(range(N)):\n",
        "            if A[i]>=max_elem:\n",
        "                max_elem = A[i]\n",
        "                leader.append(max_elem)\n",
        "        return reversed(leader)\n",
        "            "
      ]
    }
  ]
}