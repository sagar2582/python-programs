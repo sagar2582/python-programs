{
  "nbformat": 4,
  "nbformat_minor": 0,
  "metadata": {
    "colab": {
      "provenance": [],
      "authorship_tag": "ABX9TyOvqKw8jEll+C55K9gqSytc",
      "include_colab_link": true
    },
    "kernelspec": {
      "name": "python3",
      "display_name": "Python 3"
    },
    "language_info": {
      "name": "python"
    }
  },
  "cells": [
    {
      "cell_type": "markdown",
      "metadata": {
        "id": "view-in-github",
        "colab_type": "text"
      },
      "source": [
        "<a href=\"https://colab.research.google.com/github/sagar2582/python-programs/blob/main/check_if_two_arrays_are_equal_or_not.ipynb\" target=\"_parent\"><img src=\"https://colab.research.google.com/assets/colab-badge.svg\" alt=\"Open In Colab\"/></a>"
      ]
    },
    {
      "cell_type": "code",
      "execution_count": null,
      "metadata": {
        "id": "012o_AB93u-z"
      },
      "outputs": [],
      "source": [
        "#User function Template for python3\n",
        "\n",
        "class Solution:\n",
        "    #Function to check if two arrays are equal or not.\n",
        "    def check(self,A,B,N):\n",
        "        A.sort()\n",
        "        B.sort()\n",
        "        \n",
        "        if A == B:\n",
        "            return 1\n",
        "        else:\n",
        "            return 0\n",
        "        #return: True or False\n",
        "        \n",
        "        #code here"
      ]
    }
  ]
}