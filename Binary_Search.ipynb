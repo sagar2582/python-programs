{
  "nbformat": 4,
  "nbformat_minor": 0,
  "metadata": {
    "colab": {
      "provenance": [],
      "authorship_tag": "ABX9TyOCFP+fz8BPHYCEhl0tiiMk",
      "include_colab_link": true
    },
    "kernelspec": {
      "name": "python3",
      "display_name": "Python 3"
    },
    "language_info": {
      "name": "python"
    }
  },
  "cells": [
    {
      "cell_type": "markdown",
      "metadata": {
        "id": "view-in-github",
        "colab_type": "text"
      },
      "source": [
        "<a href=\"https://colab.research.google.com/github/sagar2582/python-programs/blob/main/Binary_Search.ipynb\" target=\"_parent\"><img src=\"https://colab.research.google.com/assets/colab-badge.svg\" alt=\"Open In Colab\"/></a>"
      ]
    },
    {
      "cell_type": "code",
      "execution_count": null,
      "metadata": {
        "id": "YtHbZOgTiC3w"
      },
      "outputs": [],
      "source": [
        "low = 0\n",
        "high = len(arr)-1\n",
        "\n",
        "while low<=high:\n",
        "  mid = (low+high)//2\n",
        "  if arr[mid] == traget:\n",
        "    return mid\n",
        "  elif if arr[mid]<target:\n",
        "    low = mid + 1\n",
        "  else:\n",
        "    high = mid - 1\n",
        "return -1 # element not found\n"
      ]
    }
  ]
}